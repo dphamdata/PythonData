{
 "cells": [
  {
   "cell_type": "markdown",
   "id": "08c1327f-dda5-490e-a307-8cd20fdbef25",
   "metadata": {},
   "source": [
    "Introducing Lists\n",
    "\n",
    "List = collection of items in a particular order \n",
    "\n",
    "Square brackets [] indicate a list \n",
    "Because lists usually contain more than one element, it's good practice to make list plural "
   ]
  },
  {
   "cell_type": "code",
   "execution_count": 16,
   "id": "c0fc1bb1-6f8a-4f65-97e7-90b194f23ca0",
   "metadata": {},
   "outputs": [],
   "source": [
    "## List example \n",
    "\n",
    "bicycles = ['trek', 'cannondale', 'redline', 'specialized']"
   ]
  },
  {
   "cell_type": "markdown",
   "id": "d12a4531-8c9b-4369-a345-95ed24e4faa0",
   "metadata": {},
   "source": [
    "Accessing elements in a list \n"
   ]
  },
  {
   "cell_type": "code",
   "execution_count": 6,
   "id": "b1373fc0-5627-42ac-a5f5-a3fa5b0f88ab",
   "metadata": {},
   "outputs": [
    {
     "name": "stdout",
     "output_type": "stream",
     "text": [
      "trek\n",
      "SPECIALIZED\n",
      "Redline\n"
     ]
    }
   ],
   "source": [
    "## Pulling information from list \n",
    "## Index positions start at 0 \n",
    "print(bicycles[0])\n",
    "\n",
    "## Accessing last item in list \n",
    "\n",
    "print(bicycles[-1].upper())\n",
    "\n",
    "## Implementing Strings \n",
    "\n",
    "print(bicycles[2].title())"
   ]
  },
  {
   "cell_type": "markdown",
   "id": "d42875c5-2bb6-4c33-9969-ab0949a80752",
   "metadata": {},
   "source": [
    "Changing, Adding & Removing Elements \n",
    "\n",
    "Most lists you make will be dynamic, meaning you'll build a list and then andd and remove elements from it as your program run its course "
   ]
  },
  {
   "cell_type": "code",
   "execution_count": 17,
   "id": "3c6260d3-7405-414a-a2fb-09e253751b85",
   "metadata": {},
   "outputs": [
    {
     "name": "stdout",
     "output_type": "stream",
     "text": [
      "['trek', 'cannondale', 'redline', 'specialized']\n"
     ]
    }
   ],
   "source": [
    "## Modifying elements in a list \n",
    "\n",
    "print(bicycles)"
   ]
  },
  {
   "cell_type": "code",
   "execution_count": 18,
   "id": "67dd4254-f014-40cd-901c-75793c94a356",
   "metadata": {},
   "outputs": [
    {
     "name": "stdout",
     "output_type": "stream",
     "text": [
      "['trek', 'cannondale', 'tricycle', 'specialized']\n"
     ]
    }
   ],
   "source": [
    "## Modify list \n",
    "\n",
    "bicycles[2] = 'tricycle'\n",
    "print(bicycles)"
   ]
  },
  {
   "cell_type": "code",
   "execution_count": 19,
   "id": "f36418bc-8be4-4ade-874e-2cf1d38b913e",
   "metadata": {},
   "outputs": [
    {
     "name": "stdout",
     "output_type": "stream",
     "text": [
      "['trek', 'cannondale', 'tricycle', 'specialized', 'motorbike']\n"
     ]
    }
   ],
   "source": [
    "## Adding elements to a list \n",
    "\n",
    "bicycles.append('motorbike')\n",
    "print(bicycles)"
   ]
  },
  {
   "cell_type": "code",
   "execution_count": 20,
   "id": "49800b91-80e0-479e-acfe-3ee535c38115",
   "metadata": {},
   "outputs": [
    {
     "name": "stdout",
     "output_type": "stream",
     "text": [
      "['dirtbike', 'trek', 'cannondale', 'tricycle', 'specialized', 'motorbike']\n"
     ]
    }
   ],
   "source": [
    "## Inserting elements into a list \n",
    "\n",
    "bicycles.insert(0, 'dirtbike')\n",
    "print(bicycles)"
   ]
  },
  {
   "cell_type": "code",
   "execution_count": 21,
   "id": "d28b78ba-5470-4db5-87a1-44bcf34dbc72",
   "metadata": {},
   "outputs": [
    {
     "name": "stdout",
     "output_type": "stream",
     "text": [
      "['dirtbike', 'trek', 'cannondale', 'tricycle', 'specialized']\n"
     ]
    }
   ],
   "source": [
    "## Removing items from a list\n",
    "\n",
    "del bicycles[-1]\n",
    "print(bicycles)"
   ]
  },
  {
   "cell_type": "code",
   "execution_count": 22,
   "id": "94d07b6e-bb27-4185-a240-c6bd807d79c6",
   "metadata": {},
   "outputs": [
    {
     "name": "stdout",
     "output_type": "stream",
     "text": [
      "['dirtbike', 'cannondale', 'tricycle', 'specialized']\n"
     ]
    }
   ],
   "source": [
    "## Removing by value \n",
    "\n",
    "bicycles.remove('trek')\n",
    "print(bicycles)"
   ]
  },
  {
   "cell_type": "markdown",
   "id": "cef88634-35fa-4feb-b768-60a3672ed059",
   "metadata": {},
   "source": [
    "Organizing Lists "
   ]
  },
  {
   "cell_type": "code",
   "execution_count": 23,
   "id": "bf221aef-405b-4c5c-aca3-54fc0989e440",
   "metadata": {},
   "outputs": [
    {
     "name": "stdout",
     "output_type": "stream",
     "text": [
      "['cannondale', 'dirtbike', 'specialized', 'tricycle']\n"
     ]
    }
   ],
   "source": [
    "## Sorting a list permenantly \n",
    "\n",
    "bicycles.sort()\n",
    "print(bicycles)"
   ]
  },
  {
   "cell_type": "markdown",
   "id": "da69ba84-446d-446d-9f1a-6229e2a6c982",
   "metadata": {},
   "source": [
    "## Chapter 4 Working with Lists "
   ]
  },
  {
   "cell_type": "code",
   "execution_count": 26,
   "id": "de923de3-12f4-43d0-bdcd-212ec59c6cfd",
   "metadata": {},
   "outputs": [
    {
     "name": "stdout",
     "output_type": "stream",
     "text": [
      "alice\n",
      "david\n",
      "carolina\n"
     ]
    }
   ],
   "source": [
    "## Looping through entire list \n",
    "\n",
    "magicians = ['alice', 'david', 'carolina']\n",
    "for magician in magicians: \n",
    "    print(magician)"
   ]
  },
  {
   "cell_type": "markdown",
   "id": "3c7941df-518d-455c-a5df-b8891c4436cf",
   "metadata": {},
   "source": [
    "Doing more work within a for loop n"
   ]
  },
  {
   "cell_type": "code",
   "execution_count": 27,
   "id": "da76e869-ef69-4bfd-8aed-475dee3e1e69",
   "metadata": {},
   "outputs": [
    {
     "name": "stdout",
     "output_type": "stream",
     "text": [
      "Alice, that was a great trick!\n",
      "David, that was a great trick!\n",
      "Carolina, that was a great trick!\n"
     ]
    }
   ],
   "source": [
    "magicians = ['alice', 'david', 'carolina']\n",
    "for magician in magicians: \n",
    "    print(magician.title() + \", that was a great trick!\")"
   ]
  },
  {
   "cell_type": "code",
   "execution_count": 28,
   "id": "69206ba4-5096-40f7-8700-d3e0e8b6d697",
   "metadata": {},
   "outputs": [
    {
     "name": "stdout",
     "output_type": "stream",
     "text": [
      "Alice, that was a great trick!\n",
      "I can't wait to see your next trick, Alice.\n",
      "\n",
      "David, that was a great trick!\n",
      "I can't wait to see your next trick, David.\n",
      "\n",
      "Carolina, that was a great trick!\n",
      "I can't wait to see your next trick, Carolina.\n",
      "\n"
     ]
    }
   ],
   "source": [
    "magicians = ['alice', 'david', 'carolina']\n",
    "for magician in magicians: \n",
    "    print(magician.title() + \", that was a great trick!\")\n",
    "    print(\"I can't wait to see your next trick, \" + magician.title() + \".\\n\")"
   ]
  },
  {
   "cell_type": "markdown",
   "id": "3f12680f-77d8-4325-b19d-1e0e8288e9a7",
   "metadata": {},
   "source": [
    "Doing something after a loop"
   ]
  },
  {
   "cell_type": "code",
   "execution_count": 29,
   "id": "8fc0055e-dec5-45fd-9bb7-3663769d2b7f",
   "metadata": {},
   "outputs": [
    {
     "name": "stdout",
     "output_type": "stream",
     "text": [
      "Alice, that was a great trick!\n",
      "I can't wait to see your next trick, Alice.\n",
      "\n",
      "David, that was a great trick!\n",
      "I can't wait to see your next trick, David.\n",
      "\n",
      "Carolina, that was a great trick!\n",
      "I can't wait to see your next trick, Carolina.\n",
      "\n",
      "Thank you everyone, that was a great magic show!\n"
     ]
    }
   ],
   "source": [
    "magicians = ['alice', 'david', 'carolina']\n",
    "for magician in magicians: \n",
    "    print(magician.title() + \", that was a great trick!\")\n",
    "    print(\"I can't wait to see your next trick, \" + magician.title() + \".\\n\")\n",
    "    \n",
    "print(\"Thank you everyone, that was a great magic show!\")    "
   ]
  },
  {
   "cell_type": "code",
   "execution_count": 35,
   "id": "af334754-a4b2-434a-9b93-2f80ccfbd5b0",
   "metadata": {},
   "outputs": [
    {
     "name": "stdout",
     "output_type": "stream",
     "text": [
      "[1, 2, 3, 4, 5, 6, 7, 8, 9, 10, 11]\n"
     ]
    },
    {
     "data": {
      "text/plain": [
       "11"
      ]
     },
     "execution_count": 35,
     "metadata": {},
     "output_type": "execute_result"
    }
   ],
   "source": [
    "## Make a list of numbers \n",
    "\n",
    "numbers = list(range(1,12))\n",
    "print(numbers)\n",
    "\n",
    "## Simple Statistics \n",
    "min(numbers)\n",
    "max(numbers)"
   ]
  },
  {
   "cell_type": "code",
   "execution_count": 38,
   "id": "7f035ad3-20d9-42d9-93f1-2298453bd464",
   "metadata": {
    "tags": []
   },
   "outputs": [
    {
     "name": "stdout",
     "output_type": "stream",
     "text": [
      "[1, 2, 3, 4, 5, 6, 7]\n"
     ]
    }
   ],
   "source": [
    "## Slicing a list \n",
    "\n",
    "print(numbers[0:7])"
   ]
  },
  {
   "cell_type": "markdown",
   "id": "3dad578d-dea3-482e-9f66-7155196abfba",
   "metadata": {},
   "source": [
    "Tuples\n",
    "\n",
    "Tuples are lists, except you use parentheses ()"
   ]
  },
  {
   "cell_type": "markdown",
   "id": "00b1f8cc-d8dd-4dac-bd20-4afb2cc4a94b",
   "metadata": {},
   "source": [
    "## Chapter 5 if statements "
   ]
  },
  {
   "cell_type": "markdown",
   "id": "450b240c-d6e6-4fe3-af6e-053411de3106",
   "metadata": {},
   "source": [
    "Syntax below\n",
    "\n",
    "Remember: \n",
    "\n",
    "colons \n"
   ]
  },
  {
   "cell_type": "code",
   "execution_count": 40,
   "id": "2da4ed49-2153-4465-a60d-8502ff7edff5",
   "metadata": {},
   "outputs": [],
   "source": [
    "cars = ['audi', 'bmw', 'suburu', 'toyota']"
   ]
  },
  {
   "cell_type": "code",
   "execution_count": 42,
   "id": "0dc1a57f-9d3f-4a40-b8ee-73c1439fb204",
   "metadata": {},
   "outputs": [
    {
     "name": "stdout",
     "output_type": "stream",
     "text": [
      "Audi\n",
      "BMW\n",
      "Suburu\n",
      "Toyota\n"
     ]
    }
   ],
   "source": [
    "for car in cars: \n",
    "    if car == 'bmw': \n",
    "        print(car.upper())\n",
    "    else: \n",
    "        print(car.title())"
   ]
  },
  {
   "cell_type": "markdown",
   "id": "5d335f48-e7fa-4dd2-84c3-aaeaf3fa55ef",
   "metadata": {},
   "source": [
    "Conditional Tests "
   ]
  },
  {
   "cell_type": "code",
   "execution_count": 43,
   "id": "6a9957ca-25e3-4368-9ac6-94c1244fd75c",
   "metadata": {},
   "outputs": [
    {
     "data": {
      "text/plain": [
       "True"
      ]
     },
     "execution_count": 43,
     "metadata": {},
     "output_type": "execute_result"
    }
   ],
   "source": [
    ">>> car = 'bmw'\n",
    ">>> car == 'bmw'"
   ]
  },
  {
   "cell_type": "code",
   "execution_count": 48,
   "id": "eb262783-970d-44af-9cec-81b3629e28f3",
   "metadata": {},
   "outputs": [
    {
     "data": {
      "text/plain": [
       "False"
      ]
     },
     "execution_count": 48,
     "metadata": {},
     "output_type": "execute_result"
    }
   ],
   "source": [
    ">>> car = 'bmw'\n",
    ">>> car == 'audi'"
   ]
  },
  {
   "cell_type": "markdown",
   "id": "a0fd9af1-566d-4d13-b123-5f8a12baa4da",
   "metadata": {},
   "source": [
    "Checking for inequality "
   ]
  },
  {
   "cell_type": "code",
   "execution_count": 49,
   "id": "951f1a7c-f1c5-4cb0-bdd9-38666029fe94",
   "metadata": {},
   "outputs": [
    {
     "name": "stdout",
     "output_type": "stream",
     "text": [
      "Hold the anchovies!\n"
     ]
    }
   ],
   "source": [
    "## Example \n",
    "\n",
    "requested_topping = 'mushrooms'\n",
    "\n",
    "if requested_topping != 'anchovies':\n",
    "        print('Hold the anchovies!')"
   ]
  },
  {
   "cell_type": "markdown",
   "id": "fc513452-8b20-4e25-b8d0-ac991ab7b772",
   "metadata": {},
   "source": [
    "Checking multiple conditions"
   ]
  },
  {
   "cell_type": "code",
   "execution_count": 51,
   "id": "ea9e2441-5204-4583-90c3-a06da761bc91",
   "metadata": {},
   "outputs": [
    {
     "data": {
      "text/plain": [
       "False"
      ]
     },
     "execution_count": 51,
     "metadata": {},
     "output_type": "execute_result"
    }
   ],
   "source": [
    ">>> age_0 = 22 \n",
    "\n",
    ">>> age_1 = 18 \n",
    "\n",
    ">>> age_0 >=21 and age_1 >= 21"
   ]
  },
  {
   "cell_type": "code",
   "execution_count": 54,
   "id": "9de1adae-081b-4fb0-bdb6-fe472e776aac",
   "metadata": {},
   "outputs": [
    {
     "data": {
      "text/plain": [
       "True"
      ]
     },
     "execution_count": 54,
     "metadata": {},
     "output_type": "execute_result"
    }
   ],
   "source": [
    ">>> age_0 = 22 \n",
    "\n",
    ">>> age_1 = 18 \n",
    "\n",
    ">>> age_0 >=21 or age_1 >= 21"
   ]
  },
  {
   "cell_type": "markdown",
   "id": "936e9ed9-6b9f-4f4c-bd03-bce46906438d",
   "metadata": {},
   "source": [
    "Checking whether value is in a list"
   ]
  },
  {
   "cell_type": "code",
   "execution_count": 56,
   "id": "60a31731-48ac-4b9e-965d-205cd2d6de3f",
   "metadata": {},
   "outputs": [
    {
     "data": {
      "text/plain": [
       "True"
      ]
     },
     "execution_count": 56,
     "metadata": {},
     "output_type": "execute_result"
    }
   ],
   "source": [
    ">>> requested_topping = ['mushrooms', 'onions', 'pineapple']\n",
    "\n",
    ">>> 'mushrooms' in requested_topping"
   ]
  },
  {
   "cell_type": "code",
   "execution_count": 57,
   "id": "f3d1cbc6-d74a-43d5-be88-9d2d45e7fdcb",
   "metadata": {},
   "outputs": [
    {
     "data": {
      "text/plain": [
       "False"
      ]
     },
     "execution_count": 57,
     "metadata": {},
     "output_type": "execute_result"
    }
   ],
   "source": [
    ">>> requested_topping = ['mushrooms', 'onions', 'pineapple']\n",
    "\n",
    ">>> 'pepperoni' in requested_topping"
   ]
  },
  {
   "cell_type": "markdown",
   "id": "ba117fc0-5ce4-43f0-ad15-b71d73e09044",
   "metadata": {},
   "source": [
    "Checking whether value is NOT in a list"
   ]
  },
  {
   "cell_type": "code",
   "execution_count": 59,
   "id": "df80e78f-8cc0-4114-b80a-863801a08512",
   "metadata": {},
   "outputs": [
    {
     "name": "stdout",
     "output_type": "stream",
     "text": [
      "Marie, you cna post a response if you wish.\n"
     ]
    }
   ],
   "source": [
    "## Example \n",
    "\n",
    "banned_users = ['andrew', 'carolina', 'david']\n",
    "user = 'marie'\n",
    "\n",
    "if user not in banned_users:\n",
    "    print(user.title() + ', you cna post a response if you wish.')"
   ]
  },
  {
   "cell_type": "markdown",
   "id": "168b7543-af4f-4937-af18-283584f2611e",
   "metadata": {},
   "source": [
    "IF Statements "
   ]
  },
  {
   "cell_type": "code",
   "execution_count": 62,
   "id": "561a0d60-06af-42fc-8959-311b1dd4643b",
   "metadata": {},
   "outputs": [
    {
     "name": "stdout",
     "output_type": "stream",
     "text": [
      "You are old enough to vote!\n"
     ]
    }
   ],
   "source": [
    "age = 19 \n",
    "if age >= 18:\n",
    "    print(\"You are old enough to vote!\")\n",
    "    "
   ]
  },
  {
   "cell_type": "markdown",
   "id": "d96a5c43-f7a2-49c9-b12e-40d705f66265",
   "metadata": {},
   "source": [
    "IF / ELSE Statements"
   ]
  },
  {
   "cell_type": "code",
   "execution_count": 66,
   "id": "97d1754f-72aa-41c1-841a-0c16a2b93729",
   "metadata": {},
   "outputs": [
    {
     "name": "stdout",
     "output_type": "stream",
     "text": [
      "Sorry, you are too young to vote.\n",
      "Please register to vote as soon as you turn 18!\n"
     ]
    }
   ],
   "source": [
    "age = 17 \n",
    "\n",
    "if age >= 18:\n",
    "    print('You are old enough to vote!')\n",
    "    print('Have you registered to vote yet?')\n",
    "\n",
    "else: \n",
    "    print('Sorry, you are too young to vote.')\n",
    "    print('Please register to vote as soon as you turn 18!')"
   ]
  },
  {
   "cell_type": "markdown",
   "id": "b2794632-dc45-4043-aa54-d5b7b7c106d3",
   "metadata": {},
   "source": [
    "If-elif-else chain"
   ]
  },
  {
   "cell_type": "code",
   "execution_count": 67,
   "id": "c795502d-928d-47f4-9f5d-2a29360c82f0",
   "metadata": {},
   "outputs": [
    {
     "name": "stdout",
     "output_type": "stream",
     "text": [
      "Your admission cost is $5.\n"
     ]
    }
   ],
   "source": [
    "age = 12 \n",
    "\n",
    "if age < 4: \n",
    "        print('Your admission cost is $0.')\n",
    "        \n",
    "elif age < 18:\n",
    "        print('Your admission cost is $5.')\n",
    "        \n",
    "else: \n",
    "        print('Your admission cost is $10.')"
   ]
  }
 ],
 "metadata": {
  "kernelspec": {
   "display_name": "Python 3 (ipykernel)",
   "language": "python",
   "name": "python3"
  },
  "language_info": {
   "codemirror_mode": {
    "name": "ipython",
    "version": 3
   },
   "file_extension": ".py",
   "mimetype": "text/x-python",
   "name": "python",
   "nbconvert_exporter": "python",
   "pygments_lexer": "ipython3",
   "version": "3.9.13"
  }
 },
 "nbformat": 4,
 "nbformat_minor": 5
}
