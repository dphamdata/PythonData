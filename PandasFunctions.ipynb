{
 "cells": [
  {
   "cell_type": "markdown",
   "id": "299921fd-0bd4-4dc7-8a2e-24212996f954",
   "metadata": {},
   "source": [
    "https://www.kaggle.com/code/themlphdstudent/cheat-sheet-seaborn-charts"
   ]
  },
  {
   "cell_type": "markdown",
   "id": "383d7c2b-81d5-482a-a4d6-6656f8df6c64",
   "metadata": {},
   "source": [
    "https://regenerativetoday.com/a-complete-cheat-sheet-for-data-visualization-in-pandas/"
   ]
  },
  {
   "cell_type": "markdown",
   "id": "744a2610-bd8e-4ecf-a6c1-61941859face",
   "metadata": {},
   "source": [
    "https://regenerativetoday.com/30-very-useful-pandas-functions-for-everyday-data-analysis-tasks/"
   ]
  },
  {
   "cell_type": "markdown",
   "id": "f7a47b1f-514e-4fb6-88a0-0ed7678e8536",
   "metadata": {
    "tags": []
   },
   "source": [
    "# Pandas Functions for Data Analysis Tasks"
   ]
  },
  {
   "cell_type": "code",
   "execution_count": null,
   "id": "226a946b-75ab-4463-9d30-68f5a59e5d08",
   "metadata": {},
   "outputs": [],
   "source": [
    "df = pd.read_csv('file_name.csv')"
   ]
  },
  {
   "cell_type": "markdown",
   "id": "029eca5b-280e-47c9-809e-8b5539f7cf30",
   "metadata": {
    "tags": []
   },
   "source": [
    "# Overview of Rows"
   ]
  },
  {
   "cell_type": "code",
   "execution_count": null,
   "id": "1b7228d8-0d87-4fc3-88b4-55c666250c5a",
   "metadata": {},
   "outputs": [],
   "source": [
    "df.head(x)"
   ]
  },
  {
   "cell_type": "markdown",
   "id": "32415049-5a6b-417b-ab00-3b2260b94e46",
   "metadata": {},
   "source": [
    "# Overview of Columns"
   ]
  },
  {
   "cell_type": "code",
   "execution_count": null,
   "id": "19beb323-d9fd-4a35-a8da-f9c6ff605afc",
   "metadata": {},
   "outputs": [],
   "source": [
    "df.columns"
   ]
  },
  {
   "cell_type": "markdown",
   "id": "354b057b-a091-4d87-806b-3145a9b68212",
   "metadata": {},
   "source": [
    "# Dropping Non Value-Added Columns"
   ]
  },
  {
   "cell_type": "code",
   "execution_count": null,
   "id": "94f70004-1fc3-4312-a148-0cd2b0d613cc",
   "metadata": {},
   "outputs": [],
   "source": [
    "df = df.drop(columns=['col_1', 'col_2', 'col_3'])"
   ]
  },
  {
   "cell_type": "markdown",
   "id": "ee7043c1-e9e5-4e17-b55c-287428d080b1",
   "metadata": {},
   "source": [
    "# See how many total rows "
   ]
  },
  {
   "cell_type": "code",
   "execution_count": null,
   "id": "e6c83bac-5610-46d8-9804-a805f0317db0",
   "metadata": {},
   "outputs": [],
   "source": [
    "len(df)"
   ]
  },
  {
   "cell_type": "markdown",
   "id": "92a2915a-2674-4544-8827-5196fddf37c4",
   "metadata": {},
   "source": [
    "# Returning Rows Using Boolean Expressions"
   ]
  },
  {
   "cell_type": "code",
   "execution_count": null,
   "id": "d5d9bd19-0e65-49bd-a700-89fc131ddd60",
   "metadata": {},
   "outputs": [],
   "source": [
    "df.query(\"x > y\")"
   ]
  },
  {
   "cell_type": "markdown",
   "id": "d707621b-24a1-48ea-9783-a1c6859fa642",
   "metadata": {},
   "source": [
    "# Takes as a parameter of rows and column indices to get subset of Data Frame "
   ]
  },
  {
   "cell_type": "code",
   "execution_count": null,
   "id": "5a422c41-9d66-437f-94b7-b39caae22273",
   "metadata": {},
   "outputs": [],
   "source": [
    "df.iloc[L10, 5:10]"
   ]
  },
  {
   "cell_type": "markdown",
   "id": "b925e7a9-ec18-44e4-9947-ff0a71334b4f",
   "metadata": {},
   "source": [
    "# iloc, bu specify which row index we want + name of columns we want "
   ]
  },
  {
   "cell_type": "markdown",
   "id": "db236d5b-1eee-4678-9902-5f80f6c74dd0",
   "metadata": {},
   "source": [
    "df.loc[[3, 10, 14, 23], ['nationality', 'weight_kg', \"height_cm\"]]"
   ]
  },
  {
   "cell_type": "markdown",
   "id": "f40d5dad-5538-48b4-9aca-608596a2a981",
   "metadata": {},
   "source": [
    "# Getting data types "
   ]
  },
  {
   "cell_type": "code",
   "execution_count": null,
   "id": "e37a9a0f-ab32-4805-aade-20bb539067d6",
   "metadata": {},
   "outputs": [],
   "source": [
    "df.col_name.dtypes "
   ]
  },
  {
   "cell_type": "code",
   "execution_count": null,
   "id": "cf1c9337-5e0d-495f-9c96-b8cbb63d43de",
   "metadata": {},
   "outputs": [],
   "source": [
    "df.dtypes "
   ]
  },
  {
   "cell_type": "markdown",
   "id": "b85453de-abdc-47fb-83a4-0aed1fa79fc5",
   "metadata": {},
   "source": [
    "# Selecting variables or column of a certain data type"
   ]
  },
  {
   "cell_type": "code",
   "execution_count": null,
   "id": "b4da1ddc-d88a-4355-9c10-ed7d561ee971",
   "metadata": {},
   "outputs": [],
   "source": [
    "df.select(includes='data_type')"
   ]
  },
  {
   "cell_type": "markdown",
   "id": "7a257688-275d-43e4-bcf1-4b5468488b1d",
   "metadata": {},
   "source": [
    "# Insert a column name in x column position "
   ]
  },
  {
   "cell_type": "code",
   "execution_count": null,
   "id": "d29f42b4-27d3-4b95-adf5-e9424b888569",
   "metadata": {},
   "outputs": [],
   "source": [
    "df.insert()"
   ]
  },
  {
   "cell_type": "markdown",
   "id": "0b1b818b-aa68-4eae-a693-f95070e59e2b",
   "metadata": {},
   "source": [
    "# Get cumulative sum of columns "
   ]
  },
  {
   "cell_type": "code",
   "execution_count": null,
   "id": "92a63ad5-5002-432f-b7b7-c9721acba98b",
   "metadata": {},
   "outputs": [],
   "source": [
    "df[''].cumsum()"
   ]
  },
  {
   "cell_type": "markdown",
   "id": "84b16b28-57c1-44a0-9f95-f353eaf37bf7",
   "metadata": {},
   "source": [
    "# Get a sample of data "
   ]
  },
  {
   "cell_type": "code",
   "execution_count": null,
   "id": "592a51b1-feec-4211-8db4-5ea01d06f450",
   "metadata": {},
   "outputs": [],
   "source": [
    "df.sample(n = x)\n",
    "df.sample(frac = 0.25)"
   ]
  },
  {
   "cell_type": "markdown",
   "id": "73c7eea8-e10d-4145-93ed-f760e6824684",
   "metadata": {},
   "source": [
    "# Query based on boolean condition "
   ]
  },
  {
   "cell_type": "code",
   "execution_count": null,
   "id": "7b8d6f14-bd82-45ec-9cf9-e4fb53766eae",
   "metadata": {},
   "outputs": [],
   "source": [
    "df['col_name'].where(df['col_name'] > x)"
   ]
  },
  {
   "cell_type": "markdown",
   "id": "7ae1ed35-9e43-496b-b6e0-7eaf8f363674",
   "metadata": {},
   "source": [
    "# Getting unique values of a categorical column "
   ]
  },
  {
   "cell_type": "code",
   "execution_count": null,
   "id": "7edf83da-4878-4a2d-b71d-92d3fe228fca",
   "metadata": {},
   "outputs": [],
   "source": [
    "df.col_name.unique()"
   ]
  },
  {
   "cell_type": "markdown",
   "id": "2d51b2b1-567c-47a3-9ce0-241c89784a42",
   "metadata": {},
   "source": [
    "# Getting total unique values in a column "
   ]
  },
  {
   "cell_type": "code",
   "execution_count": null,
   "id": "1bb1375d-c5e3-4595-a21f-7b5ef7b2e457",
   "metadata": {},
   "outputs": [],
   "source": [
    "df.col_name.nunique()"
   ]
  },
  {
   "cell_type": "markdown",
   "id": "cc34405e-5ebd-4fbe-b90b-34f37da9a9d9",
   "metadata": {},
   "source": [
    "# Replace values a column "
   ]
  },
  {
   "cell_type": "code",
   "execution_count": null,
   "id": "fecd86d6-2f55-4497-9684-462514d850bb",
   "metadata": {},
   "outputs": [],
   "source": [
    "df.replace()"
   ]
  },
  {
   "cell_type": "markdown",
   "id": "469ae205-e2f9-4000-b163-dd632524320f",
   "metadata": {},
   "source": [
    "# Rename column(s)"
   ]
  },
  {
   "cell_type": "code",
   "execution_count": null,
   "id": "8f3eb97f-8a27-448c-a124-e83049e1e05b",
   "metadata": {},
   "outputs": [],
   "source": [
    "df.rename(columns = {\"weight_kg\": \"Weight (kg)\", \"height_cm\": \"Height (cm)\"})"
   ]
  },
  {
   "cell_type": "markdown",
   "id": "b0fd746c-859c-4171-be1c-b9bcc7421f6c",
   "metadata": {},
   "source": [
    "# Filling null values with mean "
   ]
  },
  {
   "cell_type": "code",
   "execution_count": null,
   "id": "d1201b03-4351-4671-a056-01d48dadcab6",
   "metadata": {},
   "outputs": [],
   "source": [
    "df['col_name'].fillna(df['pace'].mean(), inplace = True)"
   ]
  },
  {
   "cell_type": "markdown",
   "id": "059db56b-090d-40cf-ad60-d250f38a7174",
   "metadata": {},
   "source": [
    "# Summarizing data with Groupby "
   ]
  },
  {
   "cell_type": "code",
   "execution_count": null,
   "id": "c7ee457e-c6c3-46c7-b834-93defa72b7cd",
   "metadata": {},
   "outputs": [],
   "source": [
    "df.groupby(\"nationality\")['value_eur'].sum()"
   ]
  },
  {
   "cell_type": "markdown",
   "id": "3d513bc9-0aac-45ad-8398-5dab7475ba4b",
   "metadata": {},
   "source": [
    "# Get percent change "
   ]
  },
  {
   "cell_type": "code",
   "execution_count": null,
   "id": "a85f4b08-7aa4-4628-b99d-a2aef061b368",
   "metadata": {},
   "outputs": [],
   "source": [
    "df.col_name.pctchange()"
   ]
  },
  {
   "cell_type": "markdown",
   "id": "b47e4064-b9d6-4886-af27-8cbe1070d7e1",
   "metadata": {},
   "source": [
    "# Get basic statistical measures "
   ]
  },
  {
   "cell_type": "code",
   "execution_count": null,
   "id": "3453805e-f225-40cd-aae4-948a7482cdc7",
   "metadata": {},
   "outputs": [],
   "source": [
    "df.describe()\n",
    "\n",
    "df['col_name'].describe()"
   ]
  },
  {
   "cell_type": "markdown",
   "id": "b612720d-eb6b-4068-a81d-de6a81af86ec",
   "metadata": {},
   "source": [
    "# Getting max and min values "
   ]
  },
  {
   "cell_type": "markdown",
   "id": "9cff3376-d95f-46cd-b55f-2af570913aeb",
   "metadata": {},
   "source": [
    "df.nlargest(x, 'col_name')\n",
    "df.nsmallest(x, 'col_name')"
   ]
  },
  {
   "cell_type": "markdown",
   "id": "11be44c2-2dfc-4415-a34f-f5b5b4d975ba",
   "metadata": {},
   "source": []
  },
  {
   "cell_type": "markdown",
   "id": "cabd8caa-775c-4aa0-ad8d-67419e5d72e1",
   "metadata": {},
   "source": []
  },
  {
   "cell_type": "markdown",
   "id": "c84c802a-f9ba-438c-a247-37f66bad2e03",
   "metadata": {},
   "source": []
  },
  {
   "cell_type": "markdown",
   "id": "7d5d14df-e77c-4b7c-b003-b08f6fefe677",
   "metadata": {},
   "source": []
  },
  {
   "cell_type": "markdown",
   "id": "3e8e27ae-502d-463b-a733-ca621488ace9",
   "metadata": {},
   "source": []
  },
  {
   "cell_type": "markdown",
   "id": "63a284f5-9b67-479b-b6a0-459cbc65c501",
   "metadata": {},
   "source": []
  },
  {
   "cell_type": "markdown",
   "id": "f874a2f7-55cc-4f46-827b-69598f3aa828",
   "metadata": {},
   "source": []
  },
  {
   "cell_type": "markdown",
   "id": "f9eec491-543c-400a-ab89-1df22d5d6854",
   "metadata": {},
   "source": []
  },
  {
   "cell_type": "markdown",
   "id": "eaad282a-98ed-4c38-ba08-37db42c0fd28",
   "metadata": {},
   "source": []
  }
 ],
 "metadata": {
  "kernelspec": {
   "display_name": "Python 3 (ipykernel)",
   "language": "python",
   "name": "python3"
  },
  "language_info": {
   "codemirror_mode": {
    "name": "ipython",
    "version": 3
   },
   "file_extension": ".py",
   "mimetype": "text/x-python",
   "name": "python",
   "nbconvert_exporter": "python",
   "pygments_lexer": "ipython3",
   "version": "3.9.13"
  }
 },
 "nbformat": 4,
 "nbformat_minor": 5
}
