{
 "cells": [
  {
   "cell_type": "markdown",
   "id": "a346b1f1-d83a-424b-8464-8c8f838f75e7",
   "metadata": {},
   "source": [
    "# Python 101 For Data Science"
   ]
  },
  {
   "cell_type": "markdown",
   "id": "a5d24b2f-70bc-49e9-b18d-d09a841498da",
   "metadata": {},
   "source": [
    "Module 1: Python Basics"
   ]
  },
  {
   "cell_type": "code",
   "execution_count": null,
   "id": "7123e7d1-24bf-42f5-85c5-2e73999ced41",
   "metadata": {},
   "outputs": [],
   "source": [
    "#print Hello Python 101"
   ]
  },
  {
   "cell_type": "code",
   "execution_count": 2,
   "id": "71388c9c-71f1-4ea3-baed-78718003211d",
   "metadata": {},
   "outputs": [
    {
     "name": "stdout",
     "output_type": "stream",
     "text": [
      "Hello Python 101\n"
     ]
    }
   ],
   "source": [
    "print('Hello Python 101')"
   ]
  },
  {
   "cell_type": "code",
   "execution_count": 3,
   "id": "f0ee4a71-1052-4885-9d5c-d408dd377c16",
   "metadata": {},
   "outputs": [
    {
     "name": "stdout",
     "output_type": "stream",
     "text": [
      "Hello\n",
      "World!\n"
     ]
    }
   ],
   "source": [
    "print(\"Hello\\nWorld!\")"
   ]
  },
  {
   "cell_type": "markdown",
   "id": "bdad9077-5014-44cd-8bec-559fe0ee14ea",
   "metadata": {},
   "source": [
    "# Types\n",
    "\n",
    "Integer (int) = 11, can be negative or positive \n",
    "Float = 21.213 (real number)\n",
    "String (str) = \"Hello Python 101\"\n",
    "Boolean (bool) \n",
    "    True = 1 \n",
    "    False = 0\n"
   ]
  },
  {
   "cell_type": "markdown",
   "id": "fcf521b7-87ee-4ab6-8893-a17aec09fc2c",
   "metadata": {},
   "source": [
    "# Expressions & Variables\n",
    "\n",
    "Expressions describe a type of operation that computers transform"
   ]
  },
  {
   "cell_type": "markdown",
   "id": "9402afb9-7daa-4d96-ac4c-83c9bb55f909",
   "metadata": {},
   "source": [
    "# Variables \n",
    "\n",
    "my_variable = 1 \n",
    "\n",
    "Reassign\n",
    "\n",
    "my_variable:10 "
   ]
  },
  {
   "cell_type": "code",
   "execution_count": 24,
   "id": "d947c6a9-9fb0-4156-9b8c-f4d9e73a6426",
   "metadata": {
    "tags": []
   },
   "outputs": [],
   "source": [
    "x=2"
   ]
  },
  {
   "cell_type": "code",
   "execution_count": 25,
   "id": "d5b716e6-5992-4f0b-bc5e-a518a809f21d",
   "metadata": {},
   "outputs": [
    {
     "data": {
      "text/plain": [
       "7"
      ]
     },
     "execution_count": 25,
     "metadata": {},
     "output_type": "execute_result"
    }
   ],
   "source": [
    "x + 5"
   ]
  },
  {
   "cell_type": "code",
   "execution_count": 26,
   "id": "ea85013d-48ba-4344-b80e-d3a42f9d6c32",
   "metadata": {},
   "outputs": [],
   "source": [
    "x:10"
   ]
  },
  {
   "cell_type": "code",
   "execution_count": 21,
   "id": "676aad39-feef-4e77-aa08-a738b1434db6",
   "metadata": {},
   "outputs": [
    {
     "data": {
      "text/plain": [
       "18"
      ]
     },
     "execution_count": 21,
     "metadata": {},
     "output_type": "execute_result"
    }
   ],
   "source": [
    "x + 8"
   ]
  },
  {
   "cell_type": "markdown",
   "id": "5ae6c109-a641-4c3d-bfd1-dd9e7438eefd",
   "metadata": {
    "tags": []
   },
   "source": [
    "# String Operations\n",
    "\n",
    "String = sequence of characters between quotes "
   ]
  },
  {
   "cell_type": "markdown",
   "id": "e5344ce9-d894-4f9c-8613-8f31f7f134ea",
   "metadata": {},
   "source": [
    "# Slicing up to Index 3"
   ]
  },
  {
   "cell_type": "code",
   "execution_count": 38,
   "id": "0635f197-17fb-474a-9439-4b8955ed9cca",
   "metadata": {},
   "outputs": [],
   "source": [
    "name = \"Michael Jackson\""
   ]
  },
  {
   "cell_type": "code",
   "execution_count": 39,
   "id": "9532528b-382d-40ae-84d5-178497bb56b2",
   "metadata": {},
   "outputs": [
    {
     "data": {
      "text/plain": [
       "'Mich'"
      ]
     },
     "execution_count": 39,
     "metadata": {},
     "output_type": "execute_result"
    }
   ],
   "source": [
    "name[0:4]"
   ]
  },
  {
   "cell_type": "code",
   "execution_count": 34,
   "id": "e27cd351-cbc4-4a10-98e6-a4bd66132db8",
   "metadata": {},
   "outputs": [
    {
     "data": {
      "text/plain": [
       "'Jack'"
      ]
     },
     "execution_count": 40,
     "metadata": {},
     "output_type": "execute_result"
    }
   ],
   "source": [
    "name[8:12]"
   ]
  },
  {
   "cell_type": "markdown",
   "id": "4e756c02-8ac9-421d-9ba3-2257b10494a5",
   "metadata": {},
   "source": [
    "# Concatenate "
   ]
  },
  {
   "cell_type": "code",
   "execution_count": 48,
   "id": "dade2219-ab51-45cb-ab8b-268892214380",
   "metadata": {},
   "outputs": [
    {
     "data": {
      "text/plain": [
       "'Michael Jackson is the best!'"
      ]
     },
     "execution_count": 48,
     "metadata": {},
     "output_type": "execute_result"
    }
   ],
   "source": [
    "name + \" is the best!\""
   ]
  },
  {
   "cell_type": "markdown",
   "id": "d45d3aae-0cd9-4bb8-bd29-5aeb873cb9f7",
   "metadata": {},
   "source": [
    "# Review"
   ]
  },
  {
   "cell_type": "code",
   "execution_count": 49,
   "id": "fa9068ed-df4d-42ef-90b6-fccf97367ab8",
   "metadata": {},
   "outputs": [
    {
     "data": {
      "text/plain": [
       "7"
      ]
     },
     "execution_count": 49,
     "metadata": {},
     "output_type": "execute_result"
    }
   ],
   "source": [
    "3 + 2 * 2"
   ]
  },
  {
   "cell_type": "code",
   "execution_count": 50,
   "id": "638d0878-487f-48db-a40e-00cd483f3103",
   "metadata": {},
   "outputs": [],
   "source": [
    "name = 'Lizz'"
   ]
  },
  {
   "cell_type": "code",
   "execution_count": 51,
   "id": "6fc2b50f-c303-47f8-b170-4dc374530a9d",
   "metadata": {},
   "outputs": [
    {
     "name": "stdout",
     "output_type": "stream",
     "text": [
      "Li\n"
     ]
    }
   ],
   "source": [
    "print(name[0:2])"
   ]
  },
  {
   "cell_type": "code",
   "execution_count": 54,
   "id": "d171abc4-3ca1-4418-b1a8-4bdff858e9d6",
   "metadata": {},
   "outputs": [],
   "source": [
    "var = '01234567'"
   ]
  },
  {
   "cell_type": "code",
   "execution_count": 55,
   "id": "a509e223-0805-46d8-828d-2d7d2daf3225",
   "metadata": {},
   "outputs": [
    {
     "name": "stdout",
     "output_type": "stream",
     "text": [
      "0246\n"
     ]
    }
   ],
   "source": [
    "print(var[::2])"
   ]
  },
  {
   "cell_type": "code",
   "execution_count": 56,
   "id": "4b975bf0-5cf6-4f75-b1ad-c366e88bd615",
   "metadata": {},
   "outputs": [
    {
     "data": {
      "text/plain": [
       "'12'"
      ]
     },
     "execution_count": 56,
     "metadata": {},
     "output_type": "execute_result"
    }
   ],
   "source": [
    "'1' + '2'"
   ]
  },
  {
   "cell_type": "code",
   "execution_count": 58,
   "id": "3e664266-ded8-4a9a-b423-f9fe8819e042",
   "metadata": {},
   "outputs": [],
   "source": [
    "myvar = 'hello'"
   ]
  },
  {
   "cell_type": "code",
   "execution_count": 60,
   "id": "6c6a064a-95e2-47b4-89e8-f549f003fd9b",
   "metadata": {},
   "outputs": [
    {
     "data": {
      "text/plain": [
       "'HELLO'"
      ]
     },
     "execution_count": 60,
     "metadata": {},
     "output_type": "execute_result"
    }
   ],
   "source": [
    "myvar.upper()"
   ]
  },
  {
   "cell_type": "markdown",
   "id": "12a68e42-5826-4bac-9b52-d74fc5c79155",
   "metadata": {
    "tags": []
   },
   "source": [
    "Module 2: Python Data Structures"
   ]
  },
  {
   "cell_type": "markdown",
   "id": "e60a346c-0689-4425-9266-ab08485634e9",
   "metadata": {
    "tags": []
   },
   "source": [
    "# Tuples (ordered sequences)"
   ]
  },
  {
   "cell_type": "code",
   "execution_count": 65,
   "id": "64372e3e-7a4b-4102-9937-36ba388e08c3",
   "metadata": {},
   "outputs": [],
   "source": [
    "tuple1 = (1, 2, 3, 4, 5,)"
   ]
  },
  {
   "cell_type": "code",
   "execution_count": 72,
   "id": "872cbebb-adbb-4977-8e51-2cd32d4a2de4",
   "metadata": {},
   "outputs": [
    {
     "data": {
      "text/plain": [
       "(1, 2, 3, 4, 5, 5, 6, 7, 8, 9, 'hard rock')"
      ]
     },
     "execution_count": 72,
     "metadata": {},
     "output_type": "execute_result"
    }
   ],
   "source": [
    "tuple1 + (5, 6, 7, 8, 9, \"hard rock\")"
   ]
  },
  {
   "cell_type": "code",
   "execution_count": 70,
   "id": "9660fbc4-96e1-428b-9ac1-fe94f39b7178",
   "metadata": {},
   "outputs": [
    {
     "data": {
      "text/plain": [
       "5"
      ]
     },
     "execution_count": 70,
     "metadata": {},
     "output_type": "execute_result"
    }
   ],
   "source": [
    "len(tuple1)"
   ]
  },
  {
   "cell_type": "markdown",
   "id": "19c4e2fc-8ae7-47e8-a086-87ff9e637c27",
   "metadata": {},
   "source": [
    "# Nesting \n",
    "\n",
    "Tuples can contian other tuples"
   ]
  },
  {
   "cell_type": "code",
   "execution_count": 80,
   "id": "d44247ef-adc5-4fe7-a795-9fab2eeddf5b",
   "metadata": {},
   "outputs": [],
   "source": [
    "NT = (1,2, (\"pop\", \"rock\"), (3,4), (\"disco\", (1,2)))"
   ]
  },
  {
   "cell_type": "code",
   "execution_count": 81,
   "id": "b6efdbc1-0955-4755-a01b-6689d88d21e6",
   "metadata": {},
   "outputs": [
    {
     "data": {
      "text/plain": [
       "('pop', 'rock')"
      ]
     },
     "execution_count": 81,
     "metadata": {},
     "output_type": "execute_result"
    }
   ],
   "source": [
    "NT[2]"
   ]
  },
  {
   "cell_type": "markdown",
   "id": "2c7eaf01-2e26-40e6-81c9-7e209d9528aa",
   "metadata": {},
   "source": [
    "# Lists "
   ]
  },
  {
   "cell_type": "code",
   "execution_count": 87,
   "id": "032287ef-b6f6-45d6-ad87-72a1678262dd",
   "metadata": {},
   "outputs": [],
   "source": [
    "L = ['Michael Jackson', 10.1, 1982]"
   ]
  },
  {
   "cell_type": "code",
   "execution_count": 88,
   "id": "acb6bf2b-cc57-4e8c-acda-d0701390bde7",
   "metadata": {},
   "outputs": [
    {
     "data": {
      "text/plain": [
       "'Michael Jackson'"
      ]
     },
     "execution_count": 88,
     "metadata": {},
     "output_type": "execute_result"
    }
   ],
   "source": [
    "L[0]"
   ]
  },
  {
   "cell_type": "markdown",
   "id": "e31b2c75-3534-4bd4-9bbd-67d68fc2e548",
   "metadata": {},
   "source": [
    "# Review \n",
    "\n",
    "1) How do you access the last element of the following tuple:\n",
    "\n",
    "2) What is the result of the following tuple?"
   ]
  },
  {
   "cell_type": "code",
   "execution_count": 116,
   "id": "26c56183-2dcd-44bd-b598-89d139e4260c",
   "metadata": {},
   "outputs": [],
   "source": [
    "A=(0,1,2,3)"
   ]
  },
  {
   "cell_type": "code",
   "execution_count": 119,
   "id": "f959a990-df59-4090-b3a1-b498bc40ddab",
   "metadata": {},
   "outputs": [
    {
     "data": {
      "text/plain": [
       "3"
      ]
     },
     "execution_count": 119,
     "metadata": {},
     "output_type": "execute_result"
    }
   ],
   "source": [
    "A[-1]"
   ]
  },
  {
   "cell_type": "code",
   "execution_count": 120,
   "id": "a4dfb4ed-f5d4-4260-a6b8-2f769eb8893a",
   "metadata": {},
   "outputs": [
    {
     "data": {
      "text/plain": [
       "3"
      ]
     },
     "execution_count": 120,
     "metadata": {},
     "output_type": "execute_result"
    }
   ],
   "source": [
    "A[3]"
   ]
  },
  {
   "cell_type": "code",
   "execution_count": 121,
   "id": "ee62d72b-78dd-4255-b831-ed8643181053",
   "metadata": {},
   "outputs": [],
   "source": [
    "B=[\"a\",\"b\",\"c\"]"
   ]
  },
  {
   "cell_type": "code",
   "execution_count": 123,
   "id": "5689f281-61c7-48d8-9c3a-73eee5f3ce07",
   "metadata": {},
   "outputs": [
    {
     "data": {
      "text/plain": [
       "['b', 'c']"
      ]
     },
     "execution_count": 123,
     "metadata": {},
     "output_type": "execute_result"
    }
   ],
   "source": [
    "B[1:]"
   ]
  },
  {
   "cell_type": "markdown",
   "id": "c6353642-da8b-462c-9bbe-611d75d9877a",
   "metadata": {},
   "source": [
    "# Sets\n",
    "\n",
    "Type of collection \n",
    "\n",
    "Unordered & only have unique elements. Use curly brackets {}"
   ]
  },
  {
   "cell_type": "markdown",
   "id": "d0a1f1b8-15bf-4ffb-a070-bf5378a6cf2b",
   "metadata": {},
   "source": [
    "# Set Operations"
   ]
  },
  {
   "cell_type": "code",
   "execution_count": 135,
   "id": "b93504c4-9c94-4e98-8b87-83d93f46528a",
   "metadata": {},
   "outputs": [],
   "source": [
    "A={'ACDC', 'Back in Black', 'Thriller'}"
   ]
  },
  {
   "cell_type": "code",
   "execution_count": 137,
   "id": "a95efecb-49a4-4c02-b0fc-85726b113cc9",
   "metadata": {},
   "outputs": [
    {
     "data": {
      "text/plain": [
       "True"
      ]
     },
     "execution_count": 137,
     "metadata": {},
     "output_type": "execute_result"
    }
   ],
   "source": [
    "\"ACDC\" in A"
   ]
  },
  {
   "cell_type": "code",
   "execution_count": 139,
   "id": "2949d3e7-8c5f-4235-b91b-09b736de2858",
   "metadata": {},
   "outputs": [
    {
     "data": {
      "text/plain": [
       "False"
      ]
     },
     "execution_count": 139,
     "metadata": {},
     "output_type": "execute_result"
    }
   ],
   "source": [
    "\"Who\" in A"
   ]
  },
  {
   "cell_type": "markdown",
   "id": "3f0a84ba-4816-4d80-a3f0-f785304ad05f",
   "metadata": {},
   "source": [
    "# Review. Intersection = {'A', 'C'}"
   ]
  },
  {
   "cell_type": "code",
   "execution_count": 141,
   "id": "74bf6afe-e007-49bf-8b58-8674c1187417",
   "metadata": {},
   "outputs": [
    {
     "data": {
      "text/plain": [
       "{'A', 'B', 'C', 'Z'}"
      ]
     },
     "execution_count": 141,
     "metadata": {},
     "output_type": "execute_result"
    }
   ],
   "source": [
    "S={'A','B','C'}\n",
    "\n",
    "U={'A', 'Z','C'}\n",
    "\n",
    "U.union(S)"
   ]
  },
  {
   "cell_type": "markdown",
   "id": "28dee31e-3301-4783-ad07-f59c133219b3",
   "metadata": {},
   "source": [
    "# Dictionaries\n",
    "\n",
    "Use:\n",
    "Curly brackets {}\n",
    "Colon : \n",
    "Commas ,"
   ]
  },
  {
   "cell_type": "code",
   "execution_count": 142,
   "id": "62cf2ac8-46af-4971-8705-f6d4a314d1cc",
   "metadata": {},
   "outputs": [],
   "source": [
    "D = {'a':0, 'b':1, 'c':2}"
   ]
  },
  {
   "cell_type": "markdown",
   "id": "ae0061b1-d757-491c-91dd-66c5f29eae0f",
   "metadata": {},
   "source": [
    "Module 3: Python Programming Fundamentals "
   ]
  },
  {
   "cell_type": "markdown",
   "id": "f805b4c6-f4f3-40e7-bdc9-486614620dd3",
   "metadata": {},
   "source": [
    "# Review"
   ]
  },
  {
   "cell_type": "code",
   "execution_count": 143,
   "id": "2a63976b-9d68-4800-9b33-626168563961",
   "metadata": {},
   "outputs": [
    {
     "data": {
      "text/plain": [
       "dict_values([0, 1, 2])"
      ]
     },
     "execution_count": 143,
     "metadata": {},
     "output_type": "execute_result"
    }
   ],
   "source": [
    "D.values()"
   ]
  },
  {
   "cell_type": "code",
   "execution_count": 144,
   "id": "184d3644-074f-4062-a96a-26a087699e36",
   "metadata": {},
   "outputs": [
    {
     "data": {
      "text/plain": [
       "1"
      ]
     },
     "execution_count": 144,
     "metadata": {},
     "output_type": "execute_result"
    }
   ],
   "source": [
    "D['b']"
   ]
  },
  {
   "cell_type": "markdown",
   "id": "542e8c80-038a-48d5-8e13-c04b1c78d9e0",
   "metadata": {},
   "source": [
    "Module 3: Python Programming"
   ]
  },
  {
   "cell_type": "markdown",
   "id": "42833d39-ad68-43df-a158-a0a7b8e18d16",
   "metadata": {},
   "source": [
    "# Conditions and Branching"
   ]
  },
  {
   "cell_type": "code",
   "execution_count": 56,
   "id": "6c40b8e0-eb8f-4763-a108-f4bb83f0da49",
   "metadata": {},
   "outputs": [],
   "source": [
    "i = 6"
   ]
  },
  {
   "cell_type": "code",
   "execution_count": 57,
   "id": "a4669b34-8f46-4aa4-8615-207b6000096e",
   "metadata": {},
   "outputs": [
    {
     "data": {
      "text/plain": [
       "True"
      ]
     },
     "execution_count": 57,
     "metadata": {},
     "output_type": "execute_result"
    }
   ],
   "source": [
    "i>5"
   ]
  },
  {
   "cell_type": "markdown",
   "id": "d1454731-dec0-41ad-8d2a-ebef55780709",
   "metadata": {},
   "source": [
    "# Ifs -> program to run task "
   ]
  },
  {
   "cell_type": "code",
   "execution_count": 80,
   "id": "9e80174e-d33e-469f-8b0d-e97b65fc59f3",
   "metadata": {},
   "outputs": [
    {
     "name": "stdout",
     "output_type": "stream",
     "text": [
      "Go see meatloaf\n",
      "Move on\n"
     ]
    }
   ],
   "source": [
    "age=17\n",
    "\n",
    "if (age>18):\n",
    "    \n",
    "    print('You can enter')\n",
    "\n",
    "elif (age==18):\n",
    "    \n",
    "    print('go see Pinkfloyd')\n",
    "    \n",
    "else:\n",
    "    \n",
    "    print('Go see meatloaf')\n",
    "\n",
    "print('Move on')"
   ]
  },
  {
   "cell_type": "markdown",
   "id": "50a376a8-bfde-4276-a48f-0b91de26560d",
   "metadata": {},
   "source": [
    "# logic operators"
   ]
  },
  {
   "cell_type": "code",
   "execution_count": 77,
   "id": "6bb66d7e-0482-4c9c-b09a-716ce436e529",
   "metadata": {},
   "outputs": [
    {
     "name": "stdout",
     "output_type": "stream",
     "text": [
      "The Album was made in the 70's or 90's\n"
     ]
    }
   ],
   "source": [
    "album_year = 1990 \n",
    "\n",
    "if (album_year<1980) or (album_year>1989):\n",
    "    print(\"The Album was made in the 70's or 90's\")\n",
    "    \n",
    "else: \n",
    "\n",
    "    print(\"The Album was made in the 1980's\")"
   ]
  },
  {
   "cell_type": "markdown",
   "id": "a663c103-1014-4a21-943c-954984dc950d",
   "metadata": {
    "tags": []
   },
   "source": [
    "# Loops\n",
    "\n",
    "Perform a task over and over \n",
    "\n",
    "for loops = run indefinitely\n",
    "while loops = run while conditions are met "
   ]
  },
  {
   "cell_type": "markdown",
   "id": "e13735e3-bc2a-4dbe-9f92-ee55fd032f09",
   "metadata": {
    "tags": []
   },
   "source": [
    "# Functions \n",
    "\n",
    "codes we can reuse \n",
    "\n",
    "len = length \n",
    "sum\n",
    "\n",
    "Sorted vs sort\n",
    "\n",
    "Sorted = create new list \n",
    "\n",
    "Sort = no new list created "
   ]
  },
  {
   "cell_type": "code",
   "execution_count": 84,
   "id": "3f31456e-8b11-42e2-bad0-8a56135d77a4",
   "metadata": {},
   "outputs": [],
   "source": [
    "def add1(a):\n",
    "    \"\"\"\"\n",
    "    \n",
    "    add 1 to a\n",
    "    \n",
    "    \"\"\"\n",
    "    b=a+1\n",
    "    return b"
   ]
  },
  {
   "cell_type": "code",
   "execution_count": 85,
   "id": "faf9f6d0-090d-4ee8-93c5-55bf6f7b14da",
   "metadata": {},
   "outputs": [
    {
     "data": {
      "text/plain": [
       "6"
      ]
     },
     "execution_count": 85,
     "metadata": {},
     "output_type": "execute_result"
    }
   ],
   "source": [
    "add1(5)"
   ]
  },
  {
   "cell_type": "markdown",
   "id": "ea0cd86c-bd7d-4ef9-8347-0d0c24a49674",
   "metadata": {},
   "source": [
    "# Objects and Classes \n",
    "\n",
    "every object has: \n",
    "\n",
    "a type \n",
    "an internal data representation \n",
    "a set of procedures for interacting with the object (methods)"
   ]
  },
  {
   "cell_type": "code",
   "execution_count": 92,
   "id": "f771718d-b5ff-4a76-a1ae-4a8c01f26049",
   "metadata": {},
   "outputs": [],
   "source": [
    "Ratings=[10,9,8,7,6,5,4,3,2,1]"
   ]
  },
  {
   "cell_type": "code",
   "execution_count": 93,
   "id": "bb3ce213-0b31-4daa-aecb-f29016bf7a2f",
   "metadata": {},
   "outputs": [],
   "source": [
    "Ratings.sort()"
   ]
  },
  {
   "cell_type": "markdown",
   "id": "c474e119-5645-4ea9-9caa-2356e6dc6bd4",
   "metadata": {},
   "source": [
    "# Class"
   ]
  },
  {
   "cell_type": "code",
   "execution_count": 97,
   "id": "412c9547-4233-4e88-9f41-3f8e755030c9",
   "metadata": {},
   "outputs": [
    {
     "ename": "SyntaxError",
     "evalue": "invalid syntax (772139147.py, line 1)",
     "output_type": "error",
     "traceback": [
      "\u001b[1;36m  File \u001b[1;32m\"C:\\Users\\dpham\\AppData\\Local\\Temp\\ipykernel_14904\\772139147.py\"\u001b[1;36m, line \u001b[1;32m1\u001b[0m\n\u001b[1;33m    C1= Circle(10\"red\")\u001b[0m\n\u001b[1;37m                 ^\u001b[0m\n\u001b[1;31mSyntaxError\u001b[0m\u001b[1;31m:\u001b[0m invalid syntax\n"
     ]
    }
   ],
   "source": [
    "C1= Circle(10\"red\")"
   ]
  },
  {
   "cell_type": "markdown",
   "id": "615916a0-7ce8-4c02-b97b-5478493a0d74",
   "metadata": {},
   "source": [
    "Module 4: Working with Data in Python "
   ]
  },
  {
   "cell_type": "markdown",
   "id": "2f605d6c-061f-42ae-9cdd-48b4d8444f17",
   "metadata": {},
   "source": [
    "# loading data with Pandas\n",
    "\n",
    "import pandas as pd\n",
    "\n",
    "cvs_path='file1.csv'\n",
    "\n",
    "df=pd.read.csv(csv_path)"
   ]
  },
  {
   "cell_type": "markdown",
   "id": "7878982b-003d-45bb-b609-2e3d1fd191cc",
   "metadata": {},
   "source": [
    "# Data Frames\n",
    "\n",
    "csv_path='file1.csv'\n",
    "df=pd.read_csv(csv_path)\n",
    "df.head()"
   ]
  },
  {
   "cell_type": "markdown",
   "id": "de9241ae-a706-41be-b19c-d8bda5692e9b",
   "metadata": {},
   "source": [
    "# Saving data with Pandas \n",
    "\n",
    "List unique Values \n",
    "\n",
    "df['Column_name'].unique"
   ]
  },
  {
   "cell_type": "markdown",
   "id": "30a4ea98-61bd-497e-9cfc-e18266b27fc0",
   "metadata": {},
   "source": [
    "Module 5: Working with Numpy Arrays & Simple APIs"
   ]
  },
  {
   "cell_type": "markdown",
   "id": "053c825a-0b84-4c28-b4f0-e379382888d3",
   "metadata": {},
   "source": [
    "# Data Analysis with Python"
   ]
  },
  {
   "cell_type": "markdown",
   "id": "b9b1d175-c409-4154-a34a-3046554302cd",
   "metadata": {},
   "source": [
    "Module 1: Introduction"
   ]
  },
  {
   "cell_type": "markdown",
   "id": "c4547576-8c8d-4d5b-b01f-3041c572709d",
   "metadata": {},
   "source": [
    "Module 2: Data Wrangling"
   ]
  },
  {
   "cell_type": "markdown",
   "id": "7d97c70d-3c45-479a-987d-fd9f85ac173e",
   "metadata": {},
   "source": [
    "Module 3: Exploratory Data Analysis"
   ]
  },
  {
   "cell_type": "markdown",
   "id": "8a7d2537-2698-4989-8db9-4532187e8e07",
   "metadata": {},
   "source": [
    "Module 4: Model Development"
   ]
  },
  {
   "cell_type": "markdown",
   "id": "4621ff40-4e49-4e19-aec5-7b874dd52e4a",
   "metadata": {},
   "source": [
    "Model 5: Model Evaluation"
   ]
  },
  {
   "cell_type": "markdown",
   "id": "877b1bcf-fd9f-4221-959b-3e9786c9493b",
   "metadata": {},
   "source": [
    "# Data Visualization with Python "
   ]
  },
  {
   "cell_type": "markdown",
   "id": "325f1670-49eb-4aa1-8a11-641a44fa6ec2",
   "metadata": {},
   "source": [
    "Module 1: Introduction to Visualization Tools "
   ]
  },
  {
   "cell_type": "markdown",
   "id": "f3b04f59-5af4-4a3c-ab1d-65078e588248",
   "metadata": {},
   "source": [
    "Model 2: Basic Visualization Tools "
   ]
  },
  {
   "cell_type": "markdown",
   "id": "f082992f-fc6b-413c-a9e9-6a5b01d66529",
   "metadata": {},
   "source": [
    "Module 3: Specialized Visualization Tools"
   ]
  },
  {
   "cell_type": "markdown",
   "id": "213c56ae-734c-485f-a192-bfb06d943f7b",
   "metadata": {},
   "source": [
    "Module 4: Advanced Visualization Tools"
   ]
  },
  {
   "cell_type": "markdown",
   "id": "ed99f4c4-f676-4c0f-8872-ed6780629a4b",
   "metadata": {},
   "source": [
    "Module 5: Creating Maps & Geospatial Data "
   ]
  }
 ],
 "metadata": {
  "kernelspec": {
   "display_name": "Python 3 (ipykernel)",
   "language": "python",
   "name": "python3"
  },
  "language_info": {
   "codemirror_mode": {
    "name": "ipython",
    "version": 3
   },
   "file_extension": ".py",
   "mimetype": "text/x-python",
   "name": "python",
   "nbconvert_exporter": "python",
   "pygments_lexer": "ipython3",
   "version": "3.9.13"
  }
 },
 "nbformat": 4,
 "nbformat_minor": 5
}
